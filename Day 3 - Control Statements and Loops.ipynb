{
 "cells": [
  {
   "cell_type": "markdown",
   "metadata": {},
   "source": [
    "# Control Statements\n",
    "\n",
    "Control statements are nothing but a series of statements that a program follows to get the desired\n",
    "results. Conditional expressions, involving keywords such as if, elif, and else, provide Python programs with the ability to perform different actions depending on a boolean condition: True or False."
   ]
  },
  {
   "cell_type": "markdown",
   "metadata": {},
   "source": [
    "#  The if, elif, and else statement\n",
    "\n",
    "In Python you can define a series of conditionals using if for the first one, elif for the rest, up until the final (optional) else for anything not caught by the other conditionals."
   ]
  },
  {
   "cell_type": "code",
   "execution_count": 4,
   "metadata": {},
   "outputs": [
    {
     "name": "stdout",
     "output_type": "stream",
     "text": [
      "Number is bigger than 20.\n"
     ]
    }
   ],
   "source": [
    "number = 50\n",
    "\n",
    "if number > 20:\n",
    "    print(\"Number is bigger than 20.\")\n",
    "elif number < 20: # Optional clause (you can have multiple elifs)\n",
    "    print(\"Number is smaller than 20.\")\n",
    "else: # Optional clause (you can only have one else)\n",
    "    print(\"Number is 20.\")\n"
   ]
  },
  {
   "cell_type": "markdown",
   "metadata": {},
   "source": [
    "Using else if instead of elif will trigger a syntax error and is not allowed."
   ]
  },
  {
   "cell_type": "markdown",
   "metadata": {},
   "source": [
    "## Nested if statement"
   ]
  },
  {
   "cell_type": "code",
   "execution_count": 3,
   "metadata": {},
   "outputs": [
    {
     "name": "stdout",
     "output_type": "stream",
     "text": [
      "Number is bigger than 20.\n",
      "Number is integer\n"
     ]
    }
   ],
   "source": [
    "s = 50\n",
    "\n",
    "if s > 20:\n",
    "    print(\"Number is bigger than 20.\")\n",
    "    if type(s) == str:\n",
    "        print(\"Number is an string\")\n",
    "    elif type(s) == int:\n",
    "        print(\"Number is integer\") #you can use multiple elif statemet inside nested if statemnet.\n",
    "    \n",
    "elif number < 20: \n",
    "    print(\"Number is smaller than 20.\")\n",
    "else: \n",
    "    print(\"Number is 20.\")"
   ]
  },
  {
   "cell_type": "markdown",
   "metadata": {},
   "source": [
    "## The Else Statement\n",
    "The else statement will execute it's body only if preceding conditional statements all evaluate to False."
   ]
  },
  {
   "cell_type": "code",
   "execution_count": 6,
   "metadata": {},
   "outputs": [
    {
     "name": "stdout",
     "output_type": "stream",
     "text": [
      "It is true!\n",
      "It is false!\n"
     ]
    }
   ],
   "source": [
    "if True:\n",
    "    print (\"It is true!\")\n",
    "else:\n",
    "    print (\"This won't get printed..\")\n",
    "    \n",
    "if False:\n",
    "    print (\"This won't get printed..\")\n",
    "else:\n",
    "    print (\"It is false!\")\n"
   ]
  },
  {
   "cell_type": "markdown",
   "metadata": {},
   "source": [
    "# Loops\n",
    "\n",
    "There might be a situation where you might require to run a single block of code a number of times, in that situation, loops come in handy. Loops come handy in situations such as iterating through data structures in any programming language or traversing through large sets of data to filter out junk data, followed by certain keywords followed by alphanumeric characters followed by certain special characters. "
   ]
  },
  {
   "cell_type": "markdown",
   "metadata": {},
   "source": [
    "Before further delving into loops, let's try to understand the range() functions in Python. The range() function comes handy when you want to generate a list on-the-fly."
   ]
  },
  {
   "cell_type": "code",
   "execution_count": 7,
   "metadata": {},
   "outputs": [
    {
     "data": {
      "text/plain": [
       "range(0, 10)"
      ]
     },
     "execution_count": 7,
     "metadata": {},
     "output_type": "execute_result"
    }
   ],
   "source": [
    "range(10)  #generate a list of element from 0 upto 9"
   ]
  },
  {
   "cell_type": "code",
   "execution_count": 8,
   "metadata": {},
   "outputs": [
    {
     "data": {
      "text/plain": [
       "range(5, 20)"
      ]
     },
     "execution_count": 8,
     "metadata": {},
     "output_type": "execute_result"
    }
   ],
   "source": [
    "range(5, 20) #generate a list of element starting from 5 upto 20"
   ]
  },
  {
   "cell_type": "code",
   "execution_count": 9,
   "metadata": {},
   "outputs": [
    {
     "data": {
      "text/plain": [
       "range(4, 20, 2)"
      ]
     },
     "execution_count": 9,
     "metadata": {},
     "output_type": "execute_result"
    }
   ],
   "source": [
    "range(4, 20, 2) #generate a list of element starting from 4 upto 20 and having a difference of 2 after each element."
   ]
  },
  {
   "cell_type": "markdown",
   "metadata": {},
   "source": [
    "# For Loops\n",
    "For loops iterate over a collection of items, such as list or dict or range, and run a block of code with each element from the collection."
   ]
  },
  {
   "cell_type": "code",
   "execution_count": 10,
   "metadata": {},
   "outputs": [
    {
     "name": "stdout",
     "output_type": "stream",
     "text": [
      "0\n",
      "1\n",
      "2\n",
      "3\n",
      "4\n",
      "5\n",
      "6\n",
      "7\n",
      "8\n",
      "9\n"
     ]
    }
   ],
   "source": [
    "for i in range(10):\n",
    "    print(i)"
   ]
  },
  {
   "cell_type": "code",
   "execution_count": 11,
   "metadata": {},
   "outputs": [
    {
     "name": "stdout",
     "output_type": "stream",
     "text": [
      "0\n",
      "1\n",
      "2\n",
      "3\n",
      "4\n"
     ]
    }
   ],
   "source": [
    "for i in [0, 1, 2, 3, 4]:\n",
    "    print(i)"
   ]
  },
  {
   "cell_type": "code",
   "execution_count": 12,
   "metadata": {},
   "outputs": [
    {
     "name": "stdout",
     "output_type": "stream",
     "text": [
      "1\n",
      "2\n",
      "6\n",
      "24\n"
     ]
    }
   ],
   "source": [
    "product =1\n",
    "for count in range(1,5):\n",
    "    product = product*count\n",
    "    print (product)"
   ]
  },
  {
   "cell_type": "markdown",
   "metadata": {},
   "source": [
    "# While Loops\n",
    "The while statement in Python supports repeated execution of a statement or block of statements that is controlled by a conditional expression."
   ]
  },
  {
   "cell_type": "code",
   "execution_count": 24,
   "metadata": {},
   "outputs": [
    {
     "name": "stdout",
     "output_type": "stream",
     "text": [
      "2 1\n",
      "3 3\n",
      "4 6\n",
      "5 10\n",
      "6 15\n",
      "7 21\n",
      "8 28\n",
      "9 36\n",
      "10 45\n",
      "11 55\n"
     ]
    }
   ],
   "source": [
    "d = 10\n",
    "s = 0\n",
    "i = 1\n",
    "while i<=d:\n",
    "    s = s+i\n",
    "    i = i+1\n",
    "    #print(i)\n",
    "    print(i,s)"
   ]
  },
  {
   "cell_type": "code",
   "execution_count": 25,
   "metadata": {},
   "outputs": [
    {
     "name": "stdout",
     "output_type": "stream",
     "text": [
      "0\n",
      "1\n",
      "2\n",
      "3\n",
      "4\n",
      "5\n"
     ]
    }
   ],
   "source": [
    "c=0\n",
    "while c<=5:\n",
    "    print(c)\n",
    "    c+=1"
   ]
  },
  {
   "cell_type": "markdown",
   "metadata": {},
   "source": [
    "## Break and Continue Statements\n",
    "\n",
    "Sometimes we need more control over when a loop should end, or skip an iteration. In these cases, we use the break and continue keywords, which can be used in both for and while loops."
   ]
  },
  {
   "cell_type": "markdown",
   "metadata": {},
   "source": [
    "**break terminates a loop**\n",
    "\n",
    "**continue skips one iteration of a loop**"
   ]
  },
  {
   "cell_type": "code",
   "execution_count": 26,
   "metadata": {},
   "outputs": [
    {
     "name": "stdout",
     "output_type": "stream",
     "text": [
      "0\n",
      "1\n",
      "2\n",
      "3\n",
      "4\n",
      "Breaking from loop\n"
     ]
    }
   ],
   "source": [
    "i = 0\n",
    "while i < 7:\n",
    "    print(i)\n",
    "    if i == 4:\n",
    "        print(\"Breaking from loop\")\n",
    "        break\n",
    "    i+=1"
   ]
  },
  {
   "cell_type": "markdown",
   "metadata": {},
   "source": [
    "The loop conditional will not be evaluated after the break statement is executed. Note that break statements are only allowed inside loops, syntactically. A break statement inside a function cannot be used to terminate loops that called that function.\n"
   ]
  },
  {
   "cell_type": "code",
   "execution_count": 27,
   "metadata": {},
   "outputs": [
    {
     "name": "stdout",
     "output_type": "stream",
     "text": [
      "0\n",
      "1\n",
      "3\n",
      "5\n"
     ]
    }
   ],
   "source": [
    "for i in (0, 1, 2, 3, 4, 5):\n",
    "    if i == 2 or i == 4:\n",
    "        continue\n",
    "    print(i)\n"
   ]
  },
  {
   "cell_type": "markdown",
   "metadata": {},
   "source": [
    "Note that 2 and 4 aren't printed, this is because continue goes to the next iteration instead of continuing on to print(i) when i == 2 or i == 4."
   ]
  },
  {
   "cell_type": "markdown",
   "metadata": {},
   "source": [
    "## Iterating for loop over list"
   ]
  },
  {
   "cell_type": "code",
   "execution_count": 28,
   "metadata": {},
   "outputs": [
    {
     "name": "stdout",
     "output_type": "stream",
     "text": [
      "4\n",
      "2\n",
      "6\n",
      "8\n",
      "9\n",
      "89\n",
      "45\n"
     ]
    }
   ],
   "source": [
    "l = [4,2,6,8,9, 89, 45]\n",
    "m = []\n",
    "for i in l:\n",
    "    if i >=10:\n",
    "        \n",
    "        m.append(i*2)\n",
    "    \n",
    "    print(i)"
   ]
  },
  {
   "cell_type": "markdown",
   "metadata": {},
   "source": [
    "## Nested Loop\n",
    "\n",
    "Nested loop is nothing but a loop under a loop means you can also execute a loop under another loop."
   ]
  },
  {
   "cell_type": "code",
   "execution_count": 29,
   "metadata": {},
   "outputs": [
    {
     "name": "stdout",
     "output_type": "stream",
     "text": [
      "1\n",
      "333\n",
      "55555\n",
      "7777777\n",
      "999999999\n"
     ]
    }
   ],
   "source": [
    "for i in range(1,11,2):\n",
    "    for j in range(i):\n",
    "        print( i, end = '')\n",
    "    print()"
   ]
  },
  {
   "cell_type": "markdown",
   "metadata": {},
   "source": [
    "## For else statement\n",
    "\n",
    "In a For-else statement else statement will print only when you are able to iterate over your element completely."
   ]
  },
  {
   "cell_type": "code",
   "execution_count": 31,
   "metadata": {},
   "outputs": [
    {
     "name": "stdout",
     "output_type": "stream",
     "text": [
      "s\n",
      "h\n",
      "i\n",
      "v\n",
      "a\n",
      "m\n",
      "I am able to iterate\n"
     ]
    }
   ],
   "source": [
    "for x in \"shivam\":\n",
    "    print(x)\n",
    "else:\n",
    "    print(\"I am able to iterate\")"
   ]
  },
  {
   "cell_type": "code",
   "execution_count": 33,
   "metadata": {},
   "outputs": [
    {
     "name": "stdout",
     "output_type": "stream",
     "text": [
      "s\n",
      "h\n",
      "i\n",
      "vh\n"
     ]
    }
   ],
   "source": [
    "for x in \"shivam\":\n",
    "    if x == \"v\":\n",
    "        break\n",
    "    print(x)\n",
    "else:\n",
    "    print(\"i am not able to iterate\")\n",
    "    \n",
    "print(\"vh\")"
   ]
  },
  {
   "cell_type": "markdown",
   "metadata": {},
   "source": [
    "# The Pass Statement\n",
    "\n",
    "pass is a null statement for when a statement is required by Python syntax (such as within the body of a for or while loop), but no action is required or desired by the programmer. This can be useful as a placeholder for code that is yet to be written.\n"
   ]
  },
  {
   "cell_type": "code",
   "execution_count": 34,
   "metadata": {},
   "outputs": [],
   "source": [
    "for x in range(10):\n",
    "    pass"
   ]
  },
  {
   "cell_type": "markdown",
   "metadata": {},
   "source": [
    "##  Iterating over dictionaries"
   ]
  },
  {
   "cell_type": "code",
   "execution_count": 35,
   "metadata": {},
   "outputs": [],
   "source": [
    "d = {\"key\":[1,2,3,4,[45,56]], \"key1\":(4,5,6,12,19), \"key2\":{2,14,34,8}, \"key3\":{'x':\"shivam\", 'y':\"singh\"}}"
   ]
  },
  {
   "cell_type": "code",
   "execution_count": 36,
   "metadata": {},
   "outputs": [
    {
     "data": {
      "text/plain": [
       "{'key': [1, 2, 3, 4, [45, 56]],\n",
       " 'key1': (4, 5, 6, 12, 19),\n",
       " 'key2': {2, 8, 14, 34},\n",
       " 'key3': {'x': 'shivam', 'y': 'singh'}}"
      ]
     },
     "execution_count": 36,
     "metadata": {},
     "output_type": "execute_result"
    }
   ],
   "source": [
    "d"
   ]
  },
  {
   "cell_type": "code",
   "execution_count": 37,
   "metadata": {},
   "outputs": [
    {
     "name": "stdout",
     "output_type": "stream",
     "text": [
      "key\n",
      "key1\n",
      "key2\n",
      "key3\n"
     ]
    }
   ],
   "source": [
    "# To iterate through its keys, you can use:\n",
    "\n",
    "for key in d.keys():\n",
    "    print(key)"
   ]
  },
  {
   "cell_type": "code",
   "execution_count": 38,
   "metadata": {},
   "outputs": [
    {
     "name": "stdout",
     "output_type": "stream",
     "text": [
      "[1, 2, 3, 4, [45, 56]]\n",
      "(4, 5, 6, 12, 19)\n",
      "{8, 2, 34, 14}\n",
      "{'x': 'shivam', 'y': 'singh'}\n"
     ]
    }
   ],
   "source": [
    "# To iterate through its values, you can use:\n",
    "\n",
    "for value in d.values():\n",
    "    print(value)\n"
   ]
  },
  {
   "cell_type": "code",
   "execution_count": 40,
   "metadata": {},
   "outputs": [
    {
     "name": "stdout",
     "output_type": "stream",
     "text": [
      "key : [1, 2, 3, 4, [45, 56]]\n",
      "key1 : (4, 5, 6, 12, 19)\n",
      "key2 : {8, 2, 34, 14}\n",
      "key3 : {'x': 'shivam', 'y': 'singh'}\n"
     ]
    }
   ],
   "source": [
    "# To iterate through its keys and values, use:\n",
    "\n",
    "for key, value in d.items():\n",
    "    print(key, \":\", value)\n"
   ]
  },
  {
   "cell_type": "code",
   "execution_count": 41,
   "metadata": {},
   "outputs": [],
   "source": [
    "# if I want to access the elements of tuple and put that tuple elements into a empty list.\n",
    "\n",
    "m = []\n",
    "for i in d.values():\n",
    "    \n",
    "    if type(i) == tuple:\n",
    "        for j in i:\n",
    "            m.append(j)"
   ]
  },
  {
   "cell_type": "code",
   "execution_count": 42,
   "metadata": {},
   "outputs": [
    {
     "data": {
      "text/plain": [
       "[4, 5, 6, 12, 19]"
      ]
     },
     "execution_count": 42,
     "metadata": {},
     "output_type": "execute_result"
    }
   ],
   "source": [
    "m"
   ]
  },
  {
   "cell_type": "code",
   "execution_count": null,
   "metadata": {},
   "outputs": [],
   "source": []
  },
  {
   "cell_type": "code",
   "execution_count": null,
   "metadata": {},
   "outputs": [],
   "source": []
  }
 ],
 "metadata": {
  "kernelspec": {
   "display_name": "Python 3",
   "language": "python",
   "name": "python3"
  },
  "language_info": {
   "codemirror_mode": {
    "name": "ipython",
    "version": 3
   },
   "file_extension": ".py",
   "mimetype": "text/x-python",
   "name": "python",
   "nbconvert_exporter": "python",
   "pygments_lexer": "ipython3",
   "version": "3.7.4"
  }
 },
 "nbformat": 4,
 "nbformat_minor": 2
}
